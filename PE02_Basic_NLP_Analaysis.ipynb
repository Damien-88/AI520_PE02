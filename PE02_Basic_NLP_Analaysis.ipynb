{
 "cells": [
  {
   "cell_type": "code",
   "execution_count": 7,
   "id": "6a421ad9",
   "metadata": {},
   "outputs": [],
   "source": [
    "import nltk\n",
    "import spacy \n",
    "import numpy as np\n",
    "import pandas as pd\n",
    "from sklearn.feature_extraction.text import CountVectorizer, TfidfVectorizer\n",
    "from sklearn.naive_bayes import MultinomialNB\n",
    "from sklearn.linear_model import LogisticRegression\n",
    "from sklearn.model_selection import train_test_split\n",
    "from sklearn.metrics import classification_report"
   ]
  },
  {
   "cell_type": "markdown",
   "id": "f902b015",
   "metadata": {},
   "source": [
    "# Exercese 1: Enhanced Text Preprocessing"
   ]
  },
  {
   "cell_type": "code",
   "execution_count": 8,
   "id": "cd67586d",
   "metadata": {},
   "outputs": [],
   "source": [
    "# Create a small dataset of movie reviews with labels 1 for positive and 0 for negative\n",
    "movie_reviews = [\n",
    "    (\"I loved the movie! It was fantastic!\", 1),\n",
    "    (\"The movie was terrible! I hated it!\", 0),\n",
    "    (\"What a great film! I really enjoyed it!\", 1),\n",
    "    (\"It was a boring movie. I didn't like it at all.\", 0),\n",
    "    (\"The plot was weak and the characters were flat.\", 0)\n",
    "]"
   ]
  },
  {
   "cell_type": "markdown",
   "id": "858e05ec",
   "metadata": {},
   "source": [
    "1. Compare NLTK vs spaCy preprocessing"
   ]
  },
  {
   "cell_type": "code",
   "execution_count": 9,
   "id": "c72c1bb3",
   "metadata": {},
   "outputs": [],
   "source": [
    "# import nltk resources\n",
    "from nltk.tokenize import word_tokenize\n",
    "from nltk.corpus import stopwords"
   ]
  },
  {
   "cell_type": "code",
   "execution_count": 10,
   "id": "cdbc506f",
   "metadata": {},
   "outputs": [],
   "source": [
    "# nltk function\n",
    "def nltk_preprocess(text):\n",
    "    # Download NLTK resources\n",
    "    nltk.download('punkt')\n",
    "    nltk.download('stopwords')\n",
    "\n",
    "    # Tokenize and remove stop words\n",
    "    stop_words = set(stopwords.words('english'))\n",
    "\n",
    "    # Process the reviews\n",
    "    processed_reviews = []\n",
    "    \n",
    "    # Tokenize and filter out stop words\n",
    "    for review, label in text:\n",
    "        tokens = nltk.word_tokenize(review.lower()) # Convert to lowercase\n",
    "        filtered_tokens = [word for word in tokens if word.isalpha() and word not in stop_words] # Remove punctuation and stop words\n",
    "        processed_reviews.append((' '.join(filtered_tokens), label)) # Join tokens back into a string\n",
    "\n",
    "    # Return the processed reviews\n",
    "    return tokens, filtered_tokens, processed_reviews"
   ]
  },
  {
   "cell_type": "code",
   "execution_count": 11,
   "id": "3b9b62f2",
   "metadata": {},
   "outputs": [],
   "source": [
    "# spaCy function\n",
    "def spacy_preprocess(text):\n",
    "    # Load spaCy model\n",
    "    nlp = spacy.load(\"en_core_web_sm\")\n",
    "\n",
    "    # Process the reviews\n",
    "    processed_reviews = []\n",
    "\n",
    "    # Tokenize and filter out stop words\n",
    "    for review, label in text:\n",
    "        doc = nlp(review.lower())  # Convert to lowercase\n",
    "        filtered_tokens = [token.text for token in doc if not token.is_stop and token.is_alpha]  # Remove stop words and punctuation\n",
    "        processed_reviews.append((' '.join(filtered_tokens), label))  # Join tokens back into a string\n",
    "\n",
    "    return doc, filtered_tokens, processed_reviews"
   ]
  },
  {
   "cell_type": "markdown",
   "id": "8a98b48c",
   "metadata": {},
   "source": [
    "### Analyze preprocessing steps"
   ]
  },
  {
   "cell_type": "code",
   "execution_count": null,
   "id": "817f998c",
   "metadata": {},
   "outputs": [
    {
     "name": "stderr",
     "output_type": "stream",
     "text": [
      "[nltk_data] Downloading package punkt to\n",
      "[nltk_data]     C:\\Users\\Nikolai\\AppData\\Roaming\\nltk_data...\n",
      "[nltk_data]   Package punkt is already up-to-date!\n",
      "[nltk_data] Downloading package stopwords to\n",
      "[nltk_data]     C:\\Users\\Nikolai\\AppData\\Roaming\\nltk_data...\n",
      "[nltk_data]   Package stopwords is already up-to-date!\n"
     ]
    }
   ],
   "source": [
    "low_tokens1, stop_rem1, processed1 = nltk_preprocess(movie_reviews) # Call NLTK preprocessing function and store results\n",
    "low_tokens2, stop_rem2, processed2 = spacy_preprocess(movie_reviews) # Call spaCy preprocessing function and store results"
   ]
  },
  {
   "cell_type": "code",
   "execution_count": null,
   "id": "597dfa95",
   "metadata": {},
   "outputs": [
    {
     "name": "stdout",
     "output_type": "stream",
     "text": [
      "NLTK Lowercased Tokens: ['the', 'plot', 'was', 'weak', 'and', 'the', 'characters', 'were', 'flat', '.']\n",
      "spaCy Lowercased Tokens: the plot was weak and the characters were flat.\n",
      "NLTK Filtered Tokens: ['plot', 'weak', 'characters', 'flat']\n",
      "spaCy Filtered Tokens: ['plot', 'weak', 'characters', 'flat']\n",
      "NLTK Processed Reviews: [('loved movie fantastic', 1), ('movie terrible hated', 0), ('great film really enjoyed', 1), ('boring movie like', 0), ('plot weak characters flat', 0)]\n",
      "spaCy Processed Reviews: [('loved movie fantastic', 1), ('movie terrible hated', 0), ('great film enjoyed', 1), ('boring movie like', 0), ('plot weak characters flat', 0)]\n"
     ]
    }
   ],
   "source": [
    "# Quick verification and comparison of results\n",
    "print(\"NLTK Lowercased Tokens:\", low_tokens1)\n",
    "print(\"spaCy Lowercased:\", low_tokens2)\n",
    "print(\"NLTK Filtered Tokens:\", stop_rem1)\n",
    "print(\"spaCy Filtered Tokens:\", stop_rem2)\n",
    "print(\"NLTK Processed Reviews:\", processed1)\n",
    "print(\"spaCy Processed Reviews:\", processed2)"
   ]
  },
  {
   "cell_type": "markdown",
   "id": "a649abb5",
   "metadata": {},
   "source": [
    "2. Analyze preprocessing steps"
   ]
  },
  {
   "cell_type": "code",
   "execution_count": null,
   "id": "3875acbd",
   "metadata": {},
   "outputs": [],
   "source": [
    "# imprt matplotlib for visualization\n",
    "import matplotlib.pyplot as plt"
   ]
  },
  {
   "cell_type": "code",
   "execution_count": null,
   "id": "1066d004",
   "metadata": {},
   "outputs": [
    {
     "data": {
      "image/png": "[encoded data removed]",
      "text/plain": [
       "<Figure size 1000x500 with 2 Axes>"
      ]
     },
     "metadata": {},
     "output_type": "display_data"
    }
   ],
   "source": [
    "# Visualize the length of lowercased tokens\n",
    "# NLTK\n",
    "plt.figure(figsize=(10, 5))\n",
    "plt.subplot(1, 2, 1)\n",
    "plt.bar(range(len(low_tokens1)), [len(token) for token in low_tokens1], color=\"blue\", alpha=0.7, label=\"NLTK Tokens\")\n",
    "plt.title(\"NLTK Lowercased Tokens Length\")\n",
    "plt.xlabel(\"Token Index\")\n",
    "plt.ylabel(\"Length\")\n",
    "\n",
    "# spaCy    \n",
    "plt.subplot(1, 2, 2)\n",
    "plt.bar(range(len(low_tokens2)), [len(token) for token in low_tokens2], color=\"green\", alpha=0.7, label=\"spaCy Tokens\")\n",
    "plt.title(\"spaCy Lowercased Tokens Length\")\n",
    "plt.xlabel(\"Token Index\")\n",
    "plt.ylabel(\"Length\")\n",
    "plt.tight_layout()\n",
    "plt.show()"
   ]
  },
  {
   "cell_type": "markdown",
   "id": "2ea05bb0",
   "metadata": {},
   "source": [
    "As the graphs show there were no major changes when lowercasing the text. Though virtually identical, there is one differences. NTLK was tokenized when lowercaing, while spaCy lowercased on a seperate step from tokenizing."
   ]
  },
  {
   "cell_type": "code",
   "execution_count": null,
   "id": "8d5df195",
   "metadata": {},
   "outputs": [
    {
     "data": {
      "image/png": "[encoded data removed]",
      "text/plain": [
       "<Figure size 1000x500 with 2 Axes>"
      ]
     },
     "metadata": {},
     "output_type": "display_data"
    }
   ],
   "source": [
    "# Visualize the filtered tokens (stop word removal)\n",
    "# NLTK\n",
    "plt.figure(figsize=(10, 5))\n",
    "plt.subplot(1, 2, 1)\n",
    "plt.bar(range(len(stop_rem1)), [len(token) for token in stop_rem1], color=\"blue\", alpha=0.7, label=\"NLTK Filtered Tokens\")\n",
    "plt.title(\"NLTK Filtered Tokens Length\")\n",
    "plt.xlabel(\"Token Index\")\n",
    "plt.ylabel(\"Length\")\n",
    "\n",
    "# Analyze preprocessing steps\n",
    "plt.subplot(1, 2, 2)\n",
    "plt.bar(range(len(stop_rem2)), [len(token) for token in stop_rem2], color=\"green\", alpha=0.7, label=\"spaCy Filtered Tokens\")\n",
    "plt.title(\"spaCy Filtered Tokens Length\")\n",
    "plt.xlabel(\"Token Index\")\n",
    "plt.ylabel(\"Length\")\n",
    "plt.tight_layout()\n",
    "plt.show()"
   ]
  },
  {
   "cell_type": "markdown",
   "id": "7d8ae0e9",
   "metadata": {},
   "source": [
    "Again, after filtering for stop words, the charts show the token counts to be nearly identical. spaCy removed one more word than NTLK."
   ]
  },
  {
   "cell_type": "code",
   "execution_count": null,
   "id": "433c20df",
   "metadata": {},
   "outputs": [
    {
     "data": {
      "image/png": "[encoded data removed]",
      "text/plain": [
       "<Figure size 1000x500 with 1 Axes>"
      ]
     },
     "metadata": {},
     "output_type": "display_data"
    },
    {
     "data": {
      "image/png": "[encoded data removed]",
      "text/plain": [
       "<Figure size 1000x500 with 2 Axes>"
      ]
     },
     "metadata": {},
     "output_type": "display_data"
    }
   ],
   "source": [
    "# Visulaize the processed reviews vs original reviews\n",
    "# Original reviews\n",
    "original_reviews = [review[0] for review in movie_reviews]\n",
    "plt.figure(figsize=(10, 5))\n",
    "plt.subplot(1, 2, 1)\n",
    "plt.bar(range(len(original_reviews)), [len(review) for review in original_reviews], color=\"orange\", alpha=0.7, label=\"Original Reviews\")\n",
    "plt.title(\"Original Reviews Length\")\n",
    "plt.xlabel(\"Review Index\")\n",
    "plt.ylabel(\"Length\")\n",
    "\n",
    "# NLTK\n",
    "plt.figure(figsize=(10, 5))\n",
    "plt.subplot(1, 2, 1)\n",
    "plt.bar(range(len(processed1)), [len(review[0]) for review in processed1], color=\"blue\", alpha=0.7, label=\"NLTK Processed Reviews\")\n",
    "plt.title(\"NLTK Processed Reviews Length\")\n",
    "plt.xlabel(\"Review Index\")\n",
    "plt.ylabel(\"Length\")\n",
    "\n",
    "# spaCy\n",
    "plt.subplot(1, 2, 2)\n",
    "plt.bar(range(len(processed2)), [len(review[0]) for review in processed2], color=\"green\", alpha=0.7, label=\"spaCy Processed Reviews\")\n",
    "plt.title(\"spaCy Processed Reviews Length\")\n",
    "plt.xlabel(\"Review Index\")\n",
    "plt.ylabel(\"Length\")\n",
    "plt.tight_layout()\n",
    "plt.show()"
   ]
  },
  {
   "cell_type": "markdown",
   "id": "564dc941",
   "metadata": {},
   "source": [
    "You can see that both character counts for each processed review is similar between the two techniques, when compared to the original. The one distinction is on the 3rd reviewm index 2. The decrease of 6 characters between NTLK and spaCy id due to spaCy removing the adverb \"Really\". "
   ]
  },
  {
   "cell_type": "markdown",
   "id": "5da50a1b",
   "metadata": {},
   "source": [
    "3. Document and Analyze differences between NLTK and spaCy results"
   ]
  },
  {
   "cell_type": "markdown",
   "id": "2ebaa277",
   "metadata": {},
   "source": [
    "- NLTK: Uses word_tokenize, which can split contractions (\"didn't\" → [\"did\", \"n't\"]) and retains more granular punctuation tokens.\n",
    "\n",
    "- spaCy: Produces more linguistically-aware tokens (e.g., handles \"didn't\" as one token), and includes part-of-speech tagging, dependency parsing, etc.\n",
    "\n",
    "- NLTK: Uses a basic list from stopwords.words('english'). These are generic and might miss contextual stopwords.\n",
    "\n",
    "- spaCy: Uses token.is_stop, a more refined stopword list that considers context, language models, and usage patterns."
   ]
  },
  {
   "cell_type": "markdown",
   "id": "a3db6774",
   "metadata": {},
   "source": [
    "#### Removed Tokens"
   ]
  },
  {
   "cell_type": "markdown",
   "id": "bafc4c5d",
   "metadata": {},
   "source": [
    "Original Text:\n",
    "\"It was a boring movie. I didn't like it at all.\"\n",
    "\n",
    "NLTK:\n",
    "[\"boring\", \"movie\", \"like\"]\n",
    "\n",
    "spaCy:\n",
    "[\"boring\", \"movie\", \"like\"]\n",
    "\n",
    "Both removed the same tokens (words) and filtered out the same punctuations.\n",
    "Filtered out [it, was, a, i, didn't, it, at, all]"
   ]
  },
  {
   "cell_type": "markdown",
   "id": "c806744b",
   "metadata": {},
   "source": [
    "Original text:\n",
    "\"What a great film! I really enjoyed it!.\"\n",
    "\n",
    "NLTK:\n",
    "[great, film, really, enjoyed]\n",
    "\n",
    "spaCy:\n",
    "[great, film, enjoyed]\n",
    "\n",
    "NLTK kept really while spaCy filtered it out. The word \"really\" was used to enhance \"enjoyed\" and is not really necessary beyond that.\n",
    "Filtered out [what, a, i, it] in NLTK and [what, a, i, really, it] in spaCy"
   ]
  },
  {
   "cell_type": "markdown",
   "id": "b17cea45",
   "metadata": {},
   "source": [
    "Based soley on the results I recieved, there is not enough information to make claims on which would be better for what type of project.\n",
    "\n",
    "However, the removal of an adverb like really points to a more extensive tokenization process with spaCy. Though really can be used for purposes other than intesifying verbs, adjectives, etc. that could be important to context. So further study would need to be done to verify if spaCy removes it in those cases or not.\n",
    "With this in mind, we could assume spaCy would be better for bigger projects requiring more in depth processing. While NLTK would be suited for smaller projects and stemming purposes."
   ]
  },
  {
   "cell_type": "markdown",
   "id": "3b912555",
   "metadata": {},
   "source": [
    "# Exercise 2. Basic Feature Extraction"
   ]
  },
  {
   "cell_type": "markdown",
   "id": "25789f60",
   "metadata": {},
   "source": [
    "Compare CountVectorizer and TfidVectorizer"
   ]
  },
  {
   "cell_type": "code",
   "execution_count": 22,
   "id": "0abd863b",
   "metadata": {},
   "outputs": [],
   "source": [
    "# Initialize both vectors\n",
    "count_vec = CountVectorizer()\n",
    "tfidf_vec = TfidfVectorizer()\n",
    "\n",
    "reviews = [review for review, label in processed1]  # Use NLTK processed reviews for vectorization\n",
    "\n",
    "# Fit and transform the reviews using CountVectorizer and TfidfVectorizer\n",
    "count_matrix = count_vec.fit_transform(reviews) \n",
    "tfidf_matrix = tfidf_vec.fit_transform(reviews)\n",
    "\n",
    "# Get feature names\n",
    "count_features = count_vec.get_feature_names_out()\n",
    "tfidf_features = tfidf_vec.get_feature_names_out()"
   ]
  },
  {
   "cell_type": "code",
   "execution_count": 24,
   "id": "a95ca2a7",
   "metadata": {},
   "outputs": [
    {
     "name": "stdout",
     "output_type": "stream",
     "text": [
      "CountVectorizer Features: ['boring' 'characters' 'enjoyed' 'fantastic' 'film' 'flat' 'great' 'hated'\n",
      " 'like' 'loved' 'movie' 'plot' 'really' 'terrible' 'weak']\n",
      "\n",
      "TfidfVectorizer Features: ['boring' 'characters' 'enjoyed' 'fantastic' 'film' 'flat' 'great' 'hated'\n",
      " 'like' 'loved' 'movie' 'plot' 'really' 'terrible' 'weak']\n"
     ]
    }
   ],
   "source": [
    "print(\"CountVectorizer Features:\", count_features)\n",
    "print(\"\\nTfidfVectorizer Features:\", tfidf_features)"
   ]
  },
  {
   "cell_type": "code",
   "execution_count": 25,
   "id": "95707d8d",
   "metadata": {},
   "outputs": [],
   "source": [
    "count_df = pd.DataFrame(count_matrix.toarray(), columns=count_features)\n",
    "tfidf_df = pd.DataFrame(tfidf_matrix.toarray(), columns=tfidf_features)"
   ]
  },
  {
   "cell_type": "code",
   "execution_count": 26,
   "id": "b58a3c16",
   "metadata": {},
   "outputs": [
    {
     "name": "stdout",
     "output_type": "stream",
     "text": [
      "CountVectorizer Matrix:    boring  characters  enjoyed  fantastic  ...  plot  really  terrible  weak\n",
      "0       0           0        0          1  ...     0       0         0     0\n",
      "1       0           0        0          0  ...     0       0         1     0\n",
      "2       0           0        1          0  ...     0       1         0     0\n",
      "3       1           0        0          0  ...     0       0         0     0\n",
      "4       0           1        0          0  ...     1       0         0     1\n",
      "\n",
      "[5 rows x 15 columns]\n",
      "\n",
      "TfidfVectorizer Matrix:     boring  characters  enjoyed  fantastic  ...  plot  really  terrible  weak\n",
      "0  0.00000         0.0      0.0    0.63907  ...   0.0     0.0   0.00000   0.0\n",
      "1  0.00000         0.0      0.0    0.00000  ...   0.0     0.0   0.63907   0.0\n",
      "2  0.00000         0.0      0.5    0.00000  ...   0.0     0.5   0.00000   0.0\n",
      "3  0.63907         0.0      0.0    0.00000  ...   0.0     0.0   0.00000   0.0\n",
      "4  0.00000         0.5      0.0    0.00000  ...   0.5     0.0   0.00000   0.5\n",
      "\n",
      "[5 rows x 15 columns]\n"
     ]
    }
   ],
   "source": [
    "print(\"CountVectorizer Matrix:\", count_df)\n",
    "print(\"\\nTfidfVectorizer Matrix:\", tfidf_df)"
   ]
  },
  {
   "cell_type": "markdown",
   "id": "766e0963",
   "metadata": {},
   "source": [
    "- Count vectorizer outputs the frequency each word appears. The words have whole number weights, mostly 0 to 1, with the highest frequencies weighted heaviest.\n",
    "\n",
    "- Tfidf Vectorizer outputs the importance of each word. Each word is weighted in decimal form between 0 and 1. The more frequent a word, the less importance it is given. Resultuing in a lower value."
   ]
  },
  {
   "cell_type": "markdown",
   "id": "e52b8e5c",
   "metadata": {},
   "source": [
    "# Exercise 3: Text Classification"
   ]
  },
  {
   "cell_type": "code",
   "execution_count": 32,
   "id": "bbb4e785",
   "metadata": {},
   "outputs": [],
   "source": [
    "reviews = [review for review, label in processed1]  # Use NLTK processed reviews for classification\n",
    "labels = [label for review, label in processed1]  # Extract labels"
   ]
  },
  {
   "cell_type": "code",
   "execution_count": 33,
   "id": "02387738",
   "metadata": {},
   "outputs": [],
   "source": [
    "tfidf_vec = TfidfVectorizer()  # Initialize TfidfVectorizer\n",
    "X = tfidf_vec.fit_transform(reviews)  # Use TfidfVectorizer for classification\n",
    "X_train, X_test, y_train, y_test = train_test_split(X, labels, test_size=0.2, random_state=42)"
   ]
  },
  {
   "cell_type": "code",
   "execution_count": 35,
   "id": "a1ef7a02",
   "metadata": {},
   "outputs": [],
   "source": [
    "# Implement both classifiers\n",
    "models = {\n",
    "    \"Naive Bayes\": MultinomialNB(),\n",
    "    \"Logistic Regression\": LogisticRegression()\n",
    "}"
   ]
  },
  {
   "cell_type": "code",
   "execution_count": 36,
   "id": "4413c6db",
   "metadata": {},
   "outputs": [
    {
     "name": "stdout",
     "output_type": "stream",
     "text": [
      "\n",
      "Naive Bayes Classification Report:\n",
      "              precision    recall  f1-score   support\n",
      "\n",
      "           0       1.00      1.00      1.00         1\n",
      "\n",
      "    accuracy                           1.00         1\n",
      "   macro avg       1.00      1.00      1.00         1\n",
      "weighted avg       1.00      1.00      1.00         1\n",
      "\n",
      "\n",
      "Logistic Regression Classification Report:\n",
      "              precision    recall  f1-score   support\n",
      "\n",
      "           0       1.00      1.00      1.00         1\n",
      "\n",
      "    accuracy                           1.00         1\n",
      "   macro avg       1.00      1.00      1.00         1\n",
      "weighted avg       1.00      1.00      1.00         1\n",
      "\n"
     ]
    }
   ],
   "source": [
    "# Train and evaluate each model\n",
    "for model_name, model in models.items():\n",
    "    model.fit(X_train, y_train)  # Train the model\n",
    "    y_pred = model.predict(X_test)  # Make predictions\n",
    "    print(f\"\\n{model_name} Classification Report:\")\n",
    "    print(classification_report(y_test, y_pred))  # Print classification report"
   ]
  },
  {
   "cell_type": "code",
   "execution_count": 39,
   "id": "33837892",
   "metadata": {},
   "outputs": [],
   "source": [
    "from sklearn.metrics import accuracy_score\n",
    "# Function to evaluate the pipeline performance\n",
    "def evaluate_pipeline(preproc_reviews, labels, description = \"\"):\n",
    "    # Use TfidfVectorizer to transform the reviews and classification\n",
    "    tfidf = TfidfVectorizer()\n",
    "    X = tfidf.fit_transform(preproc_reviews)\n",
    "    \n",
    "    # Split the data into training and testing sets\n",
    "    X_train, X_test, y_train, y_test = train_test_split(X, labels, test_size=0.2, random_state=42)\n",
    "    \n",
    "    # Define the models to evaluate\n",
    "    models = {\n",
    "        'Naive Bayes': MultinomialNB(),\n",
    "        'Logistic Regression': LogisticRegression()\n",
    "    }\n",
    "\n",
    "    # Evaluate each model    \n",
    "    print(f\"\\nEvaluation: {description}\")\n",
    "    \n",
    "    for name, model in models.items():\n",
    "        model.fit(X_train, y_train) # Train the model\n",
    "        y_pred = model.predict(X_test) # Make predictions\n",
    "        acc = accuracy_score(y_test, y_pred) # Calculate accuracy\n",
    "        print(f\"\\n{name} Accuracy: {acc:.2f}\") # Print accuracy\n",
    "        print(classification_report(y_test, y_pred, zero_division=0)) # Print classification report"
   ]
  },
  {
   "cell_type": "code",
   "execution_count": 41,
   "id": "7b3eec02",
   "metadata": {},
   "outputs": [],
   "source": [
    "# Prepare the data for evaluation\n",
    "# Original reviews\n",
    "og_reviews = [review for review, label in movie_reviews]\n",
    "og_labels = [label for review, label in movie_reviews]\n",
    "\n",
    "# NLTK\n",
    "nltk_reviews = [review for review, label in processed1]\n",
    "nltk_labels = [label for review, label in processed1]\n",
    "\n",
    "# spaCy\n",
    "spacy_reviews = [review for review, label in processed2]\n",
    "spacy_labels = [label for review, label in processed2]"
   ]
  },
  {
   "cell_type": "code",
   "execution_count": 42,
   "id": "5ff5ed51",
   "metadata": {},
   "outputs": [
    {
     "name": "stdout",
     "output_type": "stream",
     "text": [
      "\n",
      "Evaluation: Original Reviews\n",
      "\n",
      "Naive Bayes Accuracy: 0.00\n",
      "              precision    recall  f1-score   support\n",
      "\n",
      "           0       0.00      0.00      0.00       1.0\n",
      "           1       0.00      0.00      0.00       0.0\n",
      "\n",
      "    accuracy                           0.00       1.0\n",
      "   macro avg       0.00      0.00      0.00       1.0\n",
      "weighted avg       0.00      0.00      0.00       1.0\n",
      "\n",
      "\n",
      "Logistic Regression Accuracy: 1.00\n",
      "              precision    recall  f1-score   support\n",
      "\n",
      "           0       1.00      1.00      1.00         1\n",
      "\n",
      "    accuracy                           1.00         1\n",
      "   macro avg       1.00      1.00      1.00         1\n",
      "weighted avg       1.00      1.00      1.00         1\n",
      "\n",
      "\n",
      "Evaluation: NLTK Preprocessed Reviews\n",
      "\n",
      "Naive Bayes Accuracy: 1.00\n",
      "              precision    recall  f1-score   support\n",
      "\n",
      "           0       1.00      1.00      1.00         1\n",
      "\n",
      "    accuracy                           1.00         1\n",
      "   macro avg       1.00      1.00      1.00         1\n",
      "weighted avg       1.00      1.00      1.00         1\n",
      "\n",
      "\n",
      "Logistic Regression Accuracy: 1.00\n",
      "              precision    recall  f1-score   support\n",
      "\n",
      "           0       1.00      1.00      1.00         1\n",
      "\n",
      "    accuracy                           1.00         1\n",
      "   macro avg       1.00      1.00      1.00         1\n",
      "weighted avg       1.00      1.00      1.00         1\n",
      "\n",
      "\n",
      "Evaluation: spaCy Preprocessed Reviews\n",
      "\n",
      "Naive Bayes Accuracy: 0.00\n",
      "              precision    recall  f1-score   support\n",
      "\n",
      "           0       0.00      0.00      0.00       1.0\n",
      "           1       0.00      0.00      0.00       0.0\n",
      "\n",
      "    accuracy                           0.00       1.0\n",
      "   macro avg       0.00      0.00      0.00       1.0\n",
      "weighted avg       0.00      0.00      0.00       1.0\n",
      "\n",
      "\n",
      "Logistic Regression Accuracy: 1.00\n",
      "              precision    recall  f1-score   support\n",
      "\n",
      "           0       1.00      1.00      1.00         1\n",
      "\n",
      "    accuracy                           1.00         1\n",
      "   macro avg       1.00      1.00      1.00         1\n",
      "weighted avg       1.00      1.00      1.00         1\n",
      "\n"
     ]
    }
   ],
   "source": [
    "# Evaluate\n",
    "evaluate_pipeline(og_reviews, og_labels, \"Original Reviews\")\n",
    "evaluate_pipeline(nltk_reviews, nltk_labels, \"NLTK Preprocessed Reviews\")\n",
    "evaluate_pipeline(spacy_reviews, spacy_labels, \"spaCy Preprocessed Reviews\")"
   ]
  },
  {
   "cell_type": "markdown",
   "id": "6063d233",
   "metadata": {},
   "source": [
    "The results show the original text as unstable with a naive bays accuracy of 0 and logistic regression accuracy of 1.\n",
    "Both NLTK and scored 1 in logistic regression accuracy. However, only NLTK averaged a 1 in naive bays, with spaCy averaging 0. \n",
    "This may be due to spaCy removing too may words. Though there was only a difference of one word between the two prcessed results.\n",
    "This indicates more study needs to be done."
   ]
  },
  {
   "cell_type": "code",
   "execution_count": 45,
   "id": "7764ac43",
   "metadata": {},
   "outputs": [],
   "source": [
    "from sklearn.feature_selection import SelectKBest, chi2"
   ]
  },
  {
   "cell_type": "code",
   "execution_count": 46,
   "id": "c3bb99cb",
   "metadata": {},
   "outputs": [],
   "source": [
    "# Feature selection analysis\n",
    "def feature_selection_analysis(reviews, labels, k):\n",
    "    # Use TfidfVectorizer to transform the reviews and select top k features\n",
    "    tfidf = TfidfVectorizer()\n",
    "    X = tfidf.fit_transform(reviews) # Transform the reviews into TF-IDF features\n",
    "    selector = SelectKBest(score_func=chi2, k=k) # Select top k features based on chi-squared test\n",
    "    X_new = selector.fit_transform(X, labels) # Fit the selector to the data and transform it\n",
    "    \n",
    "    selected_indices = selector.get_support(indices=True) # Get the indices of the selected features\n",
    "    selected_features = [tfidf.get_feature_names_out()[i] for i in selected_indices] # Get the names of the selected features\n",
    "    \n",
    "    # Return the transformed data and the selected features\n",
    "    return X_new, selected_features"
   ]
  },
  {
   "cell_type": "code",
   "execution_count": 47,
   "id": "8eb3916c",
   "metadata": {},
   "outputs": [
    {
     "name": "stdout",
     "output_type": "stream",
     "text": [
      "\n",
      "Top 5 Selected Features:\n",
      " ['fantastic', 'film', 'great', 'loved', 'really']\n",
      "\n",
      "Top 10 Selected Features:\n",
      " ['boring', 'enjoyed', 'fantastic', 'film', 'great', 'hated', 'like', 'loved', 'really', 'terrible']\n",
      "\n",
      "Top 15 Selected Features:\n",
      " ['boring', 'characters', 'enjoyed', 'fantastic', 'film', 'flat', 'great', 'hated', 'like', 'loved', 'movie', 'plot', 'really', 'terrible', 'weak']\n"
     ]
    }
   ],
   "source": [
    "for k in [5, 10, 15]:\n",
    "    X_new, features = feature_selection_analysis(nltk_reviews, nltk_labels, k)\n",
    "    print(f\"\\nTop {k} Selected Features:\\n\", features)"
   ]
  }
 ],
 "metadata": {
  "kernelspec": {
   "display_name": "Python 3",
   "language": "python",
   "name": "python3"
  },
  "language_info": {
   "codemirror_mode": {
    "name": "ipython",
    "version": 3
   },
   "file_extension": ".py",
   "mimetype": "text/x-python",
   "name": "python",
   "nbconvert_exporter": "python",
   "pygments_lexer": "ipython3",
   "version": "3.13.3"
  }
 },
 "nbformat": 4,
 "nbformat_minor": 5
}
